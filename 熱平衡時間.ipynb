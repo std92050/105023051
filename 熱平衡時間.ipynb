{
 "cells": [
  {
   "cell_type": "code",
   "execution_count": 69,
   "metadata": {},
   "outputs": [],
   "source": [
    "from math import *\n",
    "from numpy import *\n",
    "from matplotlib.pyplot import *\n",
    "aa=array([[1],[0]])\n",
    "bb=array([[1],[0]])\n",
    "def A(p1,p2,ini,ini2):\n",
    "    \n",
    "    e1=[]\n",
    "    e2=[]\n",
    "    M1=array([[1-p1,p1],\n",
    "            [p1,1-p1]])\n",
    "    M2=array([[1-p2,p2],\n",
    "            [p2,1-p2]])\n",
    "    for i in range(1000):\n",
    "        ini=M1.dot(ini)\n",
    "        ini2=M2.dot(ini2)\n",
    "        e1.append(ini[0]-1/2)\n",
    "        e2.append(ini2[0]-1/2)\n",
    "    return e1,e2\n",
    "        "
   ]
  },
  {
   "cell_type": "code",
   "execution_count": 81,
   "metadata": {},
   "outputs": [],
   "source": [
    "e1,e2=A(10**(-4),0,aa,bb)"
   ]
  },
  {
   "cell_type": "code",
   "execution_count": 82,
   "metadata": {},
   "outputs": [
    {
     "data": {
      "text/plain": [
       "[<matplotlib.lines.Line2D at 0x10edaeb8>]"
      ]
     },
     "execution_count": 82,
     "metadata": {},
     "output_type": "execute_result"
    },
    {
     "data": {
      "image/png": "[encoded data removed]",
      "text/plain": [
       "<matplotlib.figure.Figure at 0x10f2d208>"
      ]
     },
     "metadata": {},
     "output_type": "display_data"
    }
   ],
   "source": [
    "plot(e1)\n",
    "plot(e2)"
   ]
  },
  {
   "cell_type": "code",
   "execution_count": 73,
   "metadata": {},
   "outputs": [],
   "source": [
    "def B(p,ini):\n",
    "    \n",
    "    \n",
    "    M1=array([[1-p,p],\n",
    "            [p,1-p]])\n",
    "    n=0 \n",
    "    while True:\n",
    "        n+=1\n",
    "        ini=M1.dot(ini)\n",
    "        if ini[0]-(1/2)<=(10**-7):\n",
    "            return n "
   ]
  },
  {
   "cell_type": "code",
   "execution_count": 91,
   "metadata": {},
   "outputs": [
    {
     "data": {
      "text/plain": [
       "[<matplotlib.lines.Line2D at 0xed70630>]"
      ]
     },
     "execution_count": 91,
     "metadata": {},
     "output_type": "execute_result"
    },
    {
     "data": {
      "image/png": "[encoded data removed]",
      "text/plain": [
       "<matplotlib.figure.Figure at 0xed543c8>"
      ]
     },
     "metadata": {},
     "output_type": "display_data"
    }
   ],
   "source": [
    "p=[]\n",
    "for i in range():\n",
    "    p.append(B(10**(-1*(i+1)),aa))\n",
    "plot(log(p))"
   ]
  },
  {
   "cell_type": "code",
   "execution_count": 85,
   "metadata": {},
   "outputs": [
    {
     "data": {
      "text/plain": [
       "numpy.ufunc"
      ]
     },
     "execution_count": 85,
     "metadata": {},
     "output_type": "execute_result"
    }
   ],
   "source": []
  },
  {
   "cell_type": "code",
   "execution_count": null,
   "metadata": {},
   "outputs": [],
   "source": []
  }
 ],
 "metadata": {
  "kernelspec": {
   "display_name": "Python 3",
   "language": "python",
   "name": "python3"
  },
  "language_info": {
   "codemirror_mode": {
    "name": "ipython",
    "version": 3
   },
   "file_extension": ".py",
   "mimetype": "text/x-python",
   "name": "python",
   "nbconvert_exporter": "python",
   "pygments_lexer": "ipython3",
   "version": "3.6.4"
  }
 },
 "nbformat": 4,
 "nbformat_minor": 2
}
